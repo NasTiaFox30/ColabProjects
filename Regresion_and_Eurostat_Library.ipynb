{
  "nbformat": 4,
  "nbformat_minor": 0,
  "metadata": {
    "colab": {
      "provenance": [],
      "authorship_tag": "ABX9TyMbpENcmZO9ZyhSW7OOk9Hm",
      "include_colab_link": true
    },
    "kernelspec": {
      "name": "python3",
      "display_name": "Python 3"
    },
    "language_info": {
      "name": "python"
    }
  },
  "cells": [
    {
      "cell_type": "markdown",
      "metadata": {
        "id": "view-in-github",
        "colab_type": "text"
      },
      "source": [
        "<a href=\"https://colab.research.google.com/github/NasTiaFox30/ColabProjects/blob/master/Regresion_and_Eurostat_Library.ipynb\" target=\"_parent\"><img src=\"https://colab.research.google.com/assets/colab-badge.svg\" alt=\"Open In Colab\"/></a>"
      ]
    },
    {
      "cell_type": "markdown",
      "source": [
        "#**📈🌍 Regresion and Eurostat Library**\n",
        "\n",
        "---\n"
      ],
      "metadata": {
        "id": "tr1so32Skn1S"
      }
    },
    {
      "cell_type": "markdown",
      "source": [
        "##**Zadanie 1**"
      ],
      "metadata": {
        "id": "wfHwZbHiefDK"
      }
    },
    {
      "cell_type": "markdown",
      "source": [
        "Przeprowadź analizę wielokrotnej regresji liniowej oraz regresji wielomianowej.\n",
        "\n",
        "Dane opisują zależność między sprzedażą samochodów (w tysiącach) a ceną samochodu (w tysiącach złotych), wydatkami na reklamę (w tysiącach złotych) oraz liczbą punktów sprzedaży (ilość salonów).\n",
        "\n",
        "Oblicz współczynnik determinacji (R²) aby ocenić jakość modeli.\n",
        "\n",
        "Poniżej dane do zadania:"
      ],
      "metadata": {
        "id": "JXPJ6lEAgIoL"
      }
    },
    {
      "cell_type": "code",
      "source": [
        "'Cena','Wydatki na reklamę','Liczba punktów sprzedaży','Sprzedaż'\n",
        "25,15,10,250\n",
        "30,20,15,230\n",
        "35,25,20,215\n",
        "40,25,25,200\n",
        "45,30,30,180\n",
        "50,40,40,170\n",
        "55,45,45,150\n",
        "28,16,12,245\n",
        "32,24,18,235\n",
        "38,27,22,210\n",
        "42,28,28,195\n",
        "48,32,32,175\n",
        "52,38,39,165\n",
        "57,47,48,140\n",
        "\n",
        "# Dane\n",
        "data = {\n",
        "    'Sprzedaz': [25, 30, 35, 40, 45, 50, 55, 28, 32, 38, 42, 48, 52, 57],\n",
        "    'Cena': [15, 20, 25, 25, 30, 40, 45, 16, 24, 27, 28, 32, 38, 47],\n",
        "    'Reklama': [10, 15, 20, 25, 30, 40, 45, 12, 18, 22, 28, 32, 39, 48],\n",
        "    'Punkty_sprzedazy': [250, 230, 215, 200, 180, 170, 150, 245, 235, 210, 195, 175, 165, 140]\n",
        "}\n"
      ],
      "metadata": {
        "id": "s1SgU4qsgGL7"
      },
      "execution_count": 5,
      "outputs": []
    },
    {
      "cell_type": "code",
      "source": [
        "# Regresja liniowa\n",
        "\n",
        "import numpy as np\n",
        "import gdown # pobieranie plików z usługi Google Drive\n",
        "import pandas as pd # manipulacja i analiza danych\n",
        "from sklearn.model_selection import train_test_split # import funkcji train_test_split do podziału danych na zbiory treningowe i testowe\n",
        "from sklearn.linear_model import LinearRegression # import klasy LinearRegression czyli modelu regresji liniowej\n",
        "from sklearn.metrics import mean_squared_error # import funkcji mean_squared_error,\n",
        "                                               # która oblicza średni błąd kwadratowy (MSE) między rzeczywistymi wartościami wyjściowymi,\n",
        "                                               # a przewidywanymi wartościami wyjściowymi na podstawie modelu\n",
        "from sklearn.metrics import r2_score # import funkcji r2_score,\n",
        "                                     # która oblicza współczynnik determinancji\n",
        "\n",
        "\n",
        "X = pd.DataFrame(data)[['Cena', 'Reklama', 'Punkty_sprzedazy']] # zmienna niezależna jako ramka danych (DataFrame)\n",
        "y = pd.DataFrame(data)['Sprzedaz'] # zmienna zależna jako seria danych (Series)\n",
        "\n",
        "\n",
        "X_train, X_test, y_train, y_test = train_test_split(X, y, test_size=0.2, random_state=0)\n",
        "\n",
        "\n",
        "# Tworzymy model regresji liniowej\n",
        "model = LinearRegression()\n",
        "\n",
        "# Dopasowujemy model do danych\n",
        "model.fit(X_train, y_train)\n",
        "\n",
        "\n",
        "\n",
        "y_pred = model.predict(X_test) # przewidujemy wartości dla zbioru testowego\n",
        "r2 = r2_score(y_test, y_pred)  # obliczamy współczynnik determinacji między\n",
        "                               # rzeczywistymi wartościami wyników (y_test)\n",
        "                               # a przewidywanymi wartościami (y_pred)\n",
        "print(\"Współczynnik determinacji R²:\", r2)\n"
      ],
      "metadata": {
        "colab": {
          "base_uri": "https://localhost:8080/"
        },
        "id": "QPdU1oappm0-",
        "outputId": "80e8132e-bc9a-4c42-8fa5-423d72cdd1f5"
      },
      "execution_count": 6,
      "outputs": [
        {
          "output_type": "stream",
          "name": "stdout",
          "text": [
            "Współczynnik determinacji R²: 0.9818812102723742\n"
          ]
        }
      ]
    },
    {
      "cell_type": "code",
      "source": [
        "# Regresja wielomianowa\n",
        "\n",
        "import numpy as np\n",
        "import gdown # pobieranie plików z usługi Google Drive\n",
        "import pandas as pd # manipulacja i analiza danych\n",
        "from sklearn.model_selection import train_test_split # import funkcji train_test_split do podziału danych na zbiory treningowe i testowe\n",
        "from sklearn.linear_model import LinearRegression # import klasy LinearRegression czyli modelu regresji liniowej\n",
        "from sklearn.metrics import mean_squared_error # import funkcji mean_squared_error,\n",
        "                                               # która oblicza średni błąd kwadratowy (MSE) między rzeczywistymi wartościami wyjściowymi,\n",
        "                                               # a przewidywanymi wartościami wyjściowymi na podstawie modelu\n",
        "from sklearn.metrics import r2_score # import funkcji r2_score,\n",
        "                                     # która oblicza współczynnik determinancji\n",
        "from sklearn.preprocessing import PolynomialFeatures\n",
        "\n",
        "\n",
        "X = pd.DataFrame(data)[['Cena', 'Reklama', 'Punkty_sprzedazy']] # zmienna niezależna jako ramka danych (DataFrame)\n",
        "y = pd.DataFrame(data)['Sprzedaz'] # zmienna zależna jako seria danych (Series)\n",
        "\n",
        "X_train, X_test, y_train, y_test = train_test_split(X, y, test_size=0.2, random_state=0)\n",
        "\n",
        "# Regresja wielomianowa\n",
        "poly_features = PolynomialFeatures(degree=3)\n",
        "X_train_poly = poly_features.fit_transform(X_train)\n",
        "X_test_poly = poly_features.transform(X_test)\n",
        "\n",
        "poly_model = LinearRegression()\n",
        "poly_model.fit(X_train_poly, y_train)\n",
        "\n",
        "\n",
        "# Obliczenie metryk jakości\n",
        "y_pred = poly_model.predict(X_test_poly)  # przewidujemy wartości dla zbioru testowego\n",
        "r2 = r2_score(y_test, y_pred)  # obliczamy współczynnik determinacji między\n",
        "                               # rzeczywistymi wartościami wyników (y_test)\n",
        "                               # a przewidywanymi wartościami (y_pred)\n",
        "print(\"Współczynnik determinacji R²:\", r2)\n"
      ],
      "metadata": {
        "colab": {
          "base_uri": "https://localhost:8080/"
        },
        "id": "bHIAasOTuBfE",
        "outputId": "2233e364-d856-4fff-e225-7b14fd770d9a"
      },
      "execution_count": 7,
      "outputs": [
        {
          "output_type": "stream",
          "name": "stdout",
          "text": [
            "Współczynnik determinacji R²: 0.2420614757782783\n"
          ]
        }
      ]
    },
    {
      "cell_type": "markdown",
      "source": [
        "##**Zadanie 2**"
      ],
      "metadata": {
        "id": "r3U5coXfL9_F"
      }
    },
    {
      "cell_type": "markdown",
      "source": [
        "Przerowadź analizę danych w oparciu o wybrany zbiór danych pobranych z repozytorium [Eurostatu](https://ec.europa.eu/eurostat/data/database).\n",
        "\n",
        "Użyj biblioteki [eurostat](https://pypi.org/project/eurostat/)\n",
        "\n",
        "Podejmij próbę utworzenia modelu regresji."
      ],
      "metadata": {
        "id": "ZCjLIA3qMBLq"
      }
    },
    {
      "cell_type": "code",
      "source": [
        "pip install eurostat"
      ],
      "metadata": {
        "colab": {
          "base_uri": "https://localhost:8080/"
        },
        "id": "lQp4HJAYrs6g",
        "outputId": "05ac3fe9-85ad-420e-f0e0-cca1485c5d32"
      },
      "execution_count": 8,
      "outputs": [
        {
          "output_type": "stream",
          "name": "stdout",
          "text": [
            "Requirement already satisfied: eurostat in /usr/local/lib/python3.11/dist-packages (1.1.1)\n",
            "Requirement already satisfied: pandas in /usr/local/lib/python3.11/dist-packages (from eurostat) (2.2.2)\n",
            "Requirement already satisfied: requests in /usr/local/lib/python3.11/dist-packages (from eurostat) (2.32.3)\n",
            "Requirement already satisfied: numpy>=1.23.2 in /usr/local/lib/python3.11/dist-packages (from pandas->eurostat) (2.0.2)\n",
            "Requirement already satisfied: python-dateutil>=2.8.2 in /usr/local/lib/python3.11/dist-packages (from pandas->eurostat) (2.8.2)\n",
            "Requirement already satisfied: pytz>=2020.1 in /usr/local/lib/python3.11/dist-packages (from pandas->eurostat) (2025.1)\n",
            "Requirement already satisfied: tzdata>=2022.7 in /usr/local/lib/python3.11/dist-packages (from pandas->eurostat) (2025.1)\n",
            "Requirement already satisfied: charset-normalizer<4,>=2 in /usr/local/lib/python3.11/dist-packages (from requests->eurostat) (3.4.1)\n",
            "Requirement already satisfied: idna<4,>=2.5 in /usr/local/lib/python3.11/dist-packages (from requests->eurostat) (3.10)\n",
            "Requirement already satisfied: urllib3<3,>=1.21.1 in /usr/local/lib/python3.11/dist-packages (from requests->eurostat) (2.3.0)\n",
            "Requirement already satisfied: certifi>=2017.4.17 in /usr/local/lib/python3.11/dist-packages (from requests->eurostat) (2025.1.31)\n",
            "Requirement already satisfied: six>=1.5 in /usr/local/lib/python3.11/dist-packages (from python-dateutil>=2.8.2->pandas->eurostat) (1.17.0)\n"
          ]
        }
      ]
    },
    {
      "cell_type": "code",
      "source": [
        "# Przerowadź analizę danych w oparciu o wybrany zbiór danych pobranych z repozytorium Eurostatu.\n",
        "\n",
        "# Użyj biblioteki eurostat\n",
        "\n",
        "# Podejmij próbę utworzenia modelu regresji.\n",
        "import eurostat\n",
        "toc = eurostat.get_toc(agency='all', dataset='nrg_ind_ren', lang='en')\n",
        "toc[0]\n"
      ],
      "metadata": {
        "colab": {
          "base_uri": "https://localhost:8080/"
        },
        "id": "ntOWEpxYI1bq",
        "outputId": "8129199b-da90-4209-d61a-85c2efb9cc7a"
      },
      "execution_count": 9,
      "outputs": [
        {
          "output_type": "execute_result",
          "data": {
            "text/plain": [
              "('title',\n",
              " 'code',\n",
              " 'type',\n",
              " 'last update of data',\n",
              " 'last table structure change',\n",
              " 'data start',\n",
              " 'data end')"
            ]
          },
          "metadata": {},
          "execution_count": 9
        }
      ]
    },
    {
      "cell_type": "code",
      "source": [
        "import eurostat\n",
        "toc_df = eurostat.get_toc_df(agency='all', dataset='nrg_ind_ren', lang='en')\n",
        "toc_df"
      ],
      "metadata": {
        "colab": {
          "base_uri": "https://localhost:8080/",
          "height": 115
        },
        "id": "Xi71Ws6QLVqP",
        "outputId": "e924ebab-c499-420e-8a7d-400aecb4c228"
      },
      "execution_count": 10,
      "outputs": [
        {
          "output_type": "execute_result",
          "data": {
            "text/plain": [
              "                                    title         code     type  \\\n",
              "0  Share of energy from renewable sources  NRG_IND_REN  dataset   \n",
              "\n",
              "        last update of data last table structure change data start data end  \n",
              "0  2025-03-07T23:00:00+0100    2025-02-14T11:00:00+0100       2004     2023  "
            ],
            "text/html": [
              "\n",
              "  <div id=\"df-05f9664c-6990-4b53-9dab-3cf1113ef4ae\" class=\"colab-df-container\">\n",
              "    <div>\n",
              "<style scoped>\n",
              "    .dataframe tbody tr th:only-of-type {\n",
              "        vertical-align: middle;\n",
              "    }\n",
              "\n",
              "    .dataframe tbody tr th {\n",
              "        vertical-align: top;\n",
              "    }\n",
              "\n",
              "    .dataframe thead th {\n",
              "        text-align: right;\n",
              "    }\n",
              "</style>\n",
              "<table border=\"1\" class=\"dataframe\">\n",
              "  <thead>\n",
              "    <tr style=\"text-align: right;\">\n",
              "      <th></th>\n",
              "      <th>title</th>\n",
              "      <th>code</th>\n",
              "      <th>type</th>\n",
              "      <th>last update of data</th>\n",
              "      <th>last table structure change</th>\n",
              "      <th>data start</th>\n",
              "      <th>data end</th>\n",
              "    </tr>\n",
              "  </thead>\n",
              "  <tbody>\n",
              "    <tr>\n",
              "      <th>0</th>\n",
              "      <td>Share of energy from renewable sources</td>\n",
              "      <td>NRG_IND_REN</td>\n",
              "      <td>dataset</td>\n",
              "      <td>2025-03-07T23:00:00+0100</td>\n",
              "      <td>2025-02-14T11:00:00+0100</td>\n",
              "      <td>2004</td>\n",
              "      <td>2023</td>\n",
              "    </tr>\n",
              "  </tbody>\n",
              "</table>\n",
              "</div>\n",
              "    <div class=\"colab-df-buttons\">\n",
              "\n",
              "  <div class=\"colab-df-container\">\n",
              "    <button class=\"colab-df-convert\" onclick=\"convertToInteractive('df-05f9664c-6990-4b53-9dab-3cf1113ef4ae')\"\n",
              "            title=\"Convert this dataframe to an interactive table.\"\n",
              "            style=\"display:none;\">\n",
              "\n",
              "  <svg xmlns=\"http://www.w3.org/2000/svg\" height=\"24px\" viewBox=\"0 -960 960 960\">\n",
              "    <path d=\"M120-120v-720h720v720H120Zm60-500h600v-160H180v160Zm220 220h160v-160H400v160Zm0 220h160v-160H400v160ZM180-400h160v-160H180v160Zm440 0h160v-160H620v160ZM180-180h160v-160H180v160Zm440 0h160v-160H620v160Z\"/>\n",
              "  </svg>\n",
              "    </button>\n",
              "\n",
              "  <style>\n",
              "    .colab-df-container {\n",
              "      display:flex;\n",
              "      gap: 12px;\n",
              "    }\n",
              "\n",
              "    .colab-df-convert {\n",
              "      background-color: #E8F0FE;\n",
              "      border: none;\n",
              "      border-radius: 50%;\n",
              "      cursor: pointer;\n",
              "      display: none;\n",
              "      fill: #1967D2;\n",
              "      height: 32px;\n",
              "      padding: 0 0 0 0;\n",
              "      width: 32px;\n",
              "    }\n",
              "\n",
              "    .colab-df-convert:hover {\n",
              "      background-color: #E2EBFA;\n",
              "      box-shadow: 0px 1px 2px rgba(60, 64, 67, 0.3), 0px 1px 3px 1px rgba(60, 64, 67, 0.15);\n",
              "      fill: #174EA6;\n",
              "    }\n",
              "\n",
              "    .colab-df-buttons div {\n",
              "      margin-bottom: 4px;\n",
              "    }\n",
              "\n",
              "    [theme=dark] .colab-df-convert {\n",
              "      background-color: #3B4455;\n",
              "      fill: #D2E3FC;\n",
              "    }\n",
              "\n",
              "    [theme=dark] .colab-df-convert:hover {\n",
              "      background-color: #434B5C;\n",
              "      box-shadow: 0px 1px 3px 1px rgba(0, 0, 0, 0.15);\n",
              "      filter: drop-shadow(0px 1px 2px rgba(0, 0, 0, 0.3));\n",
              "      fill: #FFFFFF;\n",
              "    }\n",
              "  </style>\n",
              "\n",
              "    <script>\n",
              "      const buttonEl =\n",
              "        document.querySelector('#df-05f9664c-6990-4b53-9dab-3cf1113ef4ae button.colab-df-convert');\n",
              "      buttonEl.style.display =\n",
              "        google.colab.kernel.accessAllowed ? 'block' : 'none';\n",
              "\n",
              "      async function convertToInteractive(key) {\n",
              "        const element = document.querySelector('#df-05f9664c-6990-4b53-9dab-3cf1113ef4ae');\n",
              "        const dataTable =\n",
              "          await google.colab.kernel.invokeFunction('convertToInteractive',\n",
              "                                                    [key], {});\n",
              "        if (!dataTable) return;\n",
              "\n",
              "        const docLinkHtml = 'Like what you see? Visit the ' +\n",
              "          '<a target=\"_blank\" href=https://colab.research.google.com/notebooks/data_table.ipynb>data table notebook</a>'\n",
              "          + ' to learn more about interactive tables.';\n",
              "        element.innerHTML = '';\n",
              "        dataTable['output_type'] = 'display_data';\n",
              "        await google.colab.output.renderOutput(dataTable, element);\n",
              "        const docLink = document.createElement('div');\n",
              "        docLink.innerHTML = docLinkHtml;\n",
              "        element.appendChild(docLink);\n",
              "      }\n",
              "    </script>\n",
              "  </div>\n",
              "\n",
              "\n",
              "  <div id=\"id_b693a14f-15fe-423e-bfdb-d19aaefef21f\">\n",
              "    <style>\n",
              "      .colab-df-generate {\n",
              "        background-color: #E8F0FE;\n",
              "        border: none;\n",
              "        border-radius: 50%;\n",
              "        cursor: pointer;\n",
              "        display: none;\n",
              "        fill: #1967D2;\n",
              "        height: 32px;\n",
              "        padding: 0 0 0 0;\n",
              "        width: 32px;\n",
              "      }\n",
              "\n",
              "      .colab-df-generate:hover {\n",
              "        background-color: #E2EBFA;\n",
              "        box-shadow: 0px 1px 2px rgba(60, 64, 67, 0.3), 0px 1px 3px 1px rgba(60, 64, 67, 0.15);\n",
              "        fill: #174EA6;\n",
              "      }\n",
              "\n",
              "      [theme=dark] .colab-df-generate {\n",
              "        background-color: #3B4455;\n",
              "        fill: #D2E3FC;\n",
              "      }\n",
              "\n",
              "      [theme=dark] .colab-df-generate:hover {\n",
              "        background-color: #434B5C;\n",
              "        box-shadow: 0px 1px 3px 1px rgba(0, 0, 0, 0.15);\n",
              "        filter: drop-shadow(0px 1px 2px rgba(0, 0, 0, 0.3));\n",
              "        fill: #FFFFFF;\n",
              "      }\n",
              "    </style>\n",
              "    <button class=\"colab-df-generate\" onclick=\"generateWithVariable('toc_df')\"\n",
              "            title=\"Generate code using this dataframe.\"\n",
              "            style=\"display:none;\">\n",
              "\n",
              "  <svg xmlns=\"http://www.w3.org/2000/svg\" height=\"24px\"viewBox=\"0 0 24 24\"\n",
              "       width=\"24px\">\n",
              "    <path d=\"M7,19H8.4L18.45,9,17,7.55,7,17.6ZM5,21V16.75L18.45,3.32a2,2,0,0,1,2.83,0l1.4,1.43a1.91,1.91,0,0,1,.58,1.4,1.91,1.91,0,0,1-.58,1.4L9.25,21ZM18.45,9,17,7.55Zm-12,3A5.31,5.31,0,0,0,4.9,8.1,5.31,5.31,0,0,0,1,6.5,5.31,5.31,0,0,0,4.9,4.9,5.31,5.31,0,0,0,6.5,1,5.31,5.31,0,0,0,8.1,4.9,5.31,5.31,0,0,0,12,6.5,5.46,5.46,0,0,0,6.5,12Z\"/>\n",
              "  </svg>\n",
              "    </button>\n",
              "    <script>\n",
              "      (() => {\n",
              "      const buttonEl =\n",
              "        document.querySelector('#id_b693a14f-15fe-423e-bfdb-d19aaefef21f button.colab-df-generate');\n",
              "      buttonEl.style.display =\n",
              "        google.colab.kernel.accessAllowed ? 'block' : 'none';\n",
              "\n",
              "      buttonEl.onclick = () => {\n",
              "        google.colab.notebook.generateWithVariable('toc_df');\n",
              "      }\n",
              "      })();\n",
              "    </script>\n",
              "  </div>\n",
              "\n",
              "    </div>\n",
              "  </div>\n"
            ],
            "application/vnd.google.colaboratory.intrinsic+json": {
              "type": "dataframe",
              "variable_name": "toc_df",
              "summary": "{\n  \"name\": \"toc_df\",\n  \"rows\": 1,\n  \"fields\": [\n    {\n      \"column\": \"title\",\n      \"properties\": {\n        \"dtype\": \"string\",\n        \"num_unique_values\": 1,\n        \"samples\": [\n          \"Share of energy from renewable sources\"\n        ],\n        \"semantic_type\": \"\",\n        \"description\": \"\"\n      }\n    },\n    {\n      \"column\": \"code\",\n      \"properties\": {\n        \"dtype\": \"string\",\n        \"num_unique_values\": 1,\n        \"samples\": [\n          \"NRG_IND_REN\"\n        ],\n        \"semantic_type\": \"\",\n        \"description\": \"\"\n      }\n    },\n    {\n      \"column\": \"type\",\n      \"properties\": {\n        \"dtype\": \"string\",\n        \"num_unique_values\": 1,\n        \"samples\": [\n          \"dataset\"\n        ],\n        \"semantic_type\": \"\",\n        \"description\": \"\"\n      }\n    },\n    {\n      \"column\": \"last update of data\",\n      \"properties\": {\n        \"dtype\": \"object\",\n        \"num_unique_values\": 1,\n        \"samples\": [\n          \"2025-03-07T23:00:00+0100\"\n        ],\n        \"semantic_type\": \"\",\n        \"description\": \"\"\n      }\n    },\n    {\n      \"column\": \"last table structure change\",\n      \"properties\": {\n        \"dtype\": \"object\",\n        \"num_unique_values\": 1,\n        \"samples\": [\n          \"2025-02-14T11:00:00+0100\"\n        ],\n        \"semantic_type\": \"\",\n        \"description\": \"\"\n      }\n    },\n    {\n      \"column\": \"data start\",\n      \"properties\": {\n        \"dtype\": \"object\",\n        \"num_unique_values\": 1,\n        \"samples\": [\n          \"2004\"\n        ],\n        \"semantic_type\": \"\",\n        \"description\": \"\"\n      }\n    },\n    {\n      \"column\": \"data end\",\n      \"properties\": {\n        \"dtype\": \"object\",\n        \"num_unique_values\": 1,\n        \"samples\": [\n          \"2023\"\n        ],\n        \"semantic_type\": \"\",\n        \"description\": \"\"\n      }\n    }\n  ]\n}"
            }
          },
          "metadata": {},
          "execution_count": 10
        }
      ]
    },
    {
      "cell_type": "code",
      "source": [
        "import eurostat\n",
        "pars = eurostat.get_pars('nrg_ind_ren')\n",
        "pars"
      ],
      "metadata": {
        "colab": {
          "base_uri": "https://localhost:8080/"
        },
        "id": "DbgnAHEoNFjz",
        "outputId": "4dd4b1a9-4aee-4387-c599-3c95a5f4811c"
      },
      "execution_count": 11,
      "outputs": [
        {
          "output_type": "execute_result",
          "data": {
            "text/plain": [
              "['freq', 'nrg_bal', 'unit', 'geo']"
            ]
          },
          "metadata": {},
          "execution_count": 11
        }
      ]
    },
    {
      "cell_type": "code",
      "source": [
        "import numpy as np\n",
        "import gdown # pobieranie plików z usługi Google Drive\n",
        "import pandas as pd # manipulacja i analiza danych\n",
        "from sklearn.model_selection import train_test_split # import funkcji train_test_split do podziału danych na zbiory treningowe i testowe\n",
        "from sklearn.linear_model import LinearRegression # import klasy LinearRegression czyli modelu regresji liniowej\n",
        "from sklearn.metrics import mean_squared_error # import funkcji mean_squared_error,\n",
        "                                               # która oblicza średni błąd kwadratowy (MSE) między rzeczywistymi wartościami wyjściowymi,\n",
        "                                               # a przewidywanymi wartościami wyjściowymi na podstawie modelu\n",
        "from sklearn.metrics import r2_score # import funkcji r2_score,\n",
        "                                     # która oblicza współczynnik determinancji\n",
        "from sklearn.preprocessing import PolynomialFeatures\n",
        "from sklearn.preprocessing import OneHotEncoder\n",
        "\n",
        "data2 = eurostat.get_data('egi_em1')\n",
        "df = pd.DataFrame(data2[1:], columns=data2[0])\n",
        "\n",
        "X = df[['freq', 'geo\\\\TIME_PERIOD', '2021']]\n",
        "y = df['2022']\n",
        "\n",
        "# One-hot encoding:\n",
        "encoder = OneHotEncoder(drop='first', sparse_output=False)\n",
        "X_encoded = encoder.fit_transform(X[['freq', 'geo\\\\TIME_PERIOD']])\n",
        "\n",
        "X_final = np.hstack([X_encoded, X[['2021']].values])\n",
        "\n",
        "y = pd.to_numeric(y, errors='coerce')\n",
        "\n",
        "df_cleaned = pd.concat([pd.DataFrame(X_final), y], axis=1).dropna()\n",
        "X_cleaned = df_cleaned.iloc[:, :-1]  # Всі колонки, крім останньої\n",
        "y_cleaned = df_cleaned.iloc[:, -1]   # Остання колонка\n",
        "\n",
        "\n",
        "\n",
        "X_train, X_test, y_train, y_test = train_test_split(X_cleaned, y_cleaned, test_size=0.2, random_state=0)\n",
        "\n",
        "# Tworzymy model regresji liniowej\n",
        "model = LinearRegression()\n",
        "# Dopasowujemy model do danych\n",
        "model.fit(X_train, y_train)\n",
        "\n",
        "y_pred = model.predict(X_test)\n",
        "\n",
        "y_pred = model.predict(X_test) # przewidujemy wartości dla zbioru testowego\n",
        "r2 = r2_score(y_test, y_pred)  # obliczamy współczynnik determinacji między\n",
        "                               # rzeczywistymi wartościami wyników (y_test)\n",
        "                               # a przewidywanymi wartościami (y_pred)\n",
        "\n",
        "print(\"Współczynnik determinacji R²:\", r2)"
      ],
      "metadata": {
        "colab": {
          "base_uri": "https://localhost:8080/"
        },
        "id": "MSYYRYLpO8Nu",
        "outputId": "bcc2e66a-d01a-4dc4-c23e-dc7c7de54090"
      },
      "execution_count": 12,
      "outputs": [
        {
          "output_type": "stream",
          "name": "stdout",
          "text": [
            "Współczynnik determinacji R²: 0.24422898849013108\n"
          ]
        }
      ]
    }
  ]
}