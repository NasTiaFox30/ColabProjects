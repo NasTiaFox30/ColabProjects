{
  "nbformat": 4,
  "nbformat_minor": 0,
  "metadata": {
    "colab": {
      "provenance": [],
      "authorship_tag": "ABX9TyPAioUtoKYWQ/cbfLHtEYUi",
      "include_colab_link": true
    },
    "kernelspec": {
      "name": "python3",
      "display_name": "Python 3"
    },
    "language_info": {
      "name": "python"
    }
  },
  "cells": [
    {
      "cell_type": "markdown",
      "metadata": {
        "id": "view-in-github",
        "colab_type": "text"
      },
      "source": [
        "<a href=\"https://colab.research.google.com/github/NasTiaFox30/ColabProjects/blob/master/Higher_or_Lower_PIN_Edition.ipynb\" target=\"_parent\"><img src=\"https://colab.research.google.com/assets/colab-badge.svg\" alt=\"Open In Colab\"/></a>"
      ]
    },
    {
      "cell_type": "markdown",
      "source": [
        "##**🔢🔍 Higher or Lower: PIN Edition**\n"
      ],
      "metadata": {
        "id": "IbJgsnrkGgD2"
      }
    },
    {
      "cell_type": "code",
      "source": [
        "import random\n",
        "kod = random.randint(10, 99)\n",
        "\n",
        "for i in range(10):\n",
        "  x = int(input(\"Podaj PIN: \"))\n",
        "  print()\n",
        "  if x == kod:\n",
        "    print()\n",
        "    print(\"Witam! Liczba - \", kod)\n",
        "    break\n",
        "  elif x <= kod:\n",
        "    print(\"wprowadzona liczba musi być większa!\")\n",
        "    print(\"Pozostało prób - \",9-i)\n",
        "  elif x >= kod:\n",
        "    print(\"wprowadzona liczba musi być mniejsza!\")\n",
        "    print(\"Pozostało prób - \",9-i)\n"
      ],
      "metadata": {
        "colab": {
          "base_uri": "https://localhost:8080/"
        },
        "id": "B71_5s81h-5n",
        "outputId": "725b3454-ca8c-4f02-fc3a-9395f852afb5"
      },
      "execution_count": 2,
      "outputs": [
        {
          "output_type": "stream",
          "name": "stdout",
          "text": [
            "Podaj PIN: 50\n",
            "\n",
            "wprowadzona liczba musi być mniejsza!\n",
            "Pozostało prób -  9\n",
            "Podaj PIN: 20\n",
            "\n",
            "wprowadzona liczba musi być większa!\n",
            "Pozostało prób -  8\n",
            "Podaj PIN: 25\n",
            "\n",
            "wprowadzona liczba musi być mniejsza!\n",
            "Pozostało prób -  7\n",
            "Podaj PIN: 22\n",
            "\n",
            "wprowadzona liczba musi być większa!\n",
            "Pozostało prób -  6\n",
            "Podaj PIN: 24\n",
            "\n",
            "\n",
            "Witam! Liczba -  24\n"
          ]
        }
      ]
    }
  ]
}