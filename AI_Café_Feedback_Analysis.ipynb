{
  "nbformat": 4,
  "nbformat_minor": 0,
  "metadata": {
    "colab": {
      "provenance": [],
      "authorship_tag": "ABX9TyO35UYDNrBaK3FFj1UCXxrG",
      "include_colab_link": true
    },
    "kernelspec": {
      "name": "python3",
      "display_name": "Python 3"
    },
    "language_info": {
      "name": "python"
    }
  },
  "cells": [
    {
      "cell_type": "markdown",
      "metadata": {
        "id": "view-in-github",
        "colab_type": "text"
      },
      "source": [
        "<a href=\"https://colab.research.google.com/github/NasTiaFox30/ColabProjects/blob/master/AI_Caf%C3%A9_Feedback_Analysis.ipynb\" target=\"_parent\"><img src=\"https://colab.research.google.com/assets/colab-badge.svg\" alt=\"Open In Colab\"/></a>"
      ]
    },
    {
      "cell_type": "markdown",
      "source": [
        "##**☕🍵 Analiza opinii klientów kawiarni AI Café**"
      ],
      "metadata": {
        "id": "w1CpC0JKTNw0"
      }
    },
    {
      "cell_type": "code",
      "source": [
        "# Historia:\n",
        "# Jesteś analitykiem danych w kawiarni AI Café, która słynie z używania sztucznej inteligencji\n",
        "# do personalizacji zamówień i analizy opinii klientów. Twoim zadaniem jest napisanie kilku funkcji\n",
        "# w Pythonie, które pomogą w analizie opinii klientów pozostawionych w systemie.\n",
        "\n",
        "# ========================================\n",
        "# 📌 Dane wejściowe: lista opinii klientów\n",
        "# ========================================\n",
        "opinie = [\n",
        "    \"Bardzo smaczna kawa, ale obsługa trochę wolna\",\n",
        "    \"Świetne ciasto i miła atmosfera!\",\n",
        "    \"Kawa była zimna, nie polecam\",\n",
        "    \"Najlepsza kawiarnia w mieście!\",\n",
        "    \"Obsługa była bardzo pomocna, ale ceny są trochę wysokie\",\n",
        "    \"Średnia jakość, ale duży wybór kaw\"\n",
        "]\n",
        "\n",
        "# ========================================\n",
        "# 🏆 Zadania do wykonania\n",
        "# ========================================\n",
        "\n",
        "# 1️⃣ Filtracja opinii\n",
        "# Napisz funkcję filtruj_opinie(opinie, slowo_kluczowe),\n",
        "# która przyjmuje listę opinii i zwraca tylko te,\n",
        "# które zawierają określone słowo kluczowe (np. \"kawa\").\n",
        "#\n",
        "# filtruj_opinie(opinie, \"kawa\")\n",
        "#\n",
        "# print(filtruj_opinie(opinie, \"kawa\"))\n",
        "\n",
        "\n",
        "# 2️⃣ Średnia długość opinii\n",
        "# Napisz funkcję srednia_dlugosc_opinii(opinie),\n",
        "# która obliczy i zwróci średnią liczbę słów w jednej opinii.\n",
        "\n",
        "# def srednia_dlugosc_opinii(opinie):\n",
        "  # twoj kod\n",
        "\n",
        "\n",
        "# 3️⃣ Zliczanie opinii pozytywnych i negatywnych\n",
        "# Przyjmijmy, że pozytywne opinie zawierają słowa: \"świetne\", \"najlepsza\", \"miła\", \"pomocna\"\n",
        "# Negatywne opinie zawierają słowa: \"zimna\", \"nie polecam\", \"średnia\"\n",
        "\n",
        "# def analizuj_opinie(opinie):\n",
        "  # twoj kod\n"
      ],
      "metadata": {
        "id": "8fAUIZ4dCBj-"
      },
      "execution_count": null,
      "outputs": []
    }
  ]
}