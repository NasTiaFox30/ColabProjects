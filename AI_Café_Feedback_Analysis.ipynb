{
  "nbformat": 4,
  "nbformat_minor": 0,
  "metadata": {
    "colab": {
      "provenance": [],
      "authorship_tag": "ABX9TyPjhB6wSmJmvdkIcifOWohp",
      "include_colab_link": true
    },
    "kernelspec": {
      "name": "python3",
      "display_name": "Python 3"
    },
    "language_info": {
      "name": "python"
    }
  },
  "cells": [
    {
      "cell_type": "markdown",
      "metadata": {
        "id": "view-in-github",
        "colab_type": "text"
      },
      "source": [
        "<a href=\"https://colab.research.google.com/github/NasTiaFox30/ColabProjects/blob/master/AI_Caf%C3%A9_Feedback_Analysis.ipynb\" target=\"_parent\"><img src=\"https://colab.research.google.com/assets/colab-badge.svg\" alt=\"Open In Colab\"/></a>"
      ]
    },
    {
      "cell_type": "markdown",
      "source": [
        "##**☕🍵 Analiza opinii klientów kawiarni AI Café**"
      ],
      "metadata": {
        "id": "w1CpC0JKTNw0"
      }
    },
    {
      "cell_type": "code",
      "source": [
        "# Historia:\n",
        "# Jesteś analitykiem danych w kawiarni AI Café, która słynie z używania sztucznej inteligencji\n",
        "# do personalizacji zamówień i analizy opinii klientów. Twoim zadaniem jest napisanie kilku funkcji\n",
        "# w Pythonie, które pomogą w analizie opinii klientów pozostawionych w systemie.\n",
        "\n",
        "# ========================================\n",
        "# 📌 Dane wejściowe: lista opinii klientów\n",
        "# ========================================\n",
        "opinie = [\n",
        "    \"Bardzo smaczna kawa, ale obsługa trochę wolna\",\n",
        "    \"Świetne ciasto i miła atmosfera!\",\n",
        "    \"Kawa była zimna, nie polecam\",\n",
        "    \"Najlepsza kawiarnia w mieście!\",\n",
        "    \"Obsługa była bardzo pomocna, ale ceny są trochę wysokie\",\n",
        "    \"Średnia jakość, ale duży wybór kaw\"\n",
        "]\n",
        "\n",
        "# ========================================\n",
        "# 🏆 Zadania do wykonania\n",
        "# ========================================\n",
        "\n",
        "# 1️⃣ Filtracja opinii\n",
        "# Napisz funkcję filtruj_opinie(opinie, slowo_kluczowe),\n",
        "# która przyjmuje listę opinii i zwraca tylko te,\n",
        "# które zawierają określone słowo kluczowe (np. \"kawa\").\n",
        "#\n",
        "# filtruj_opinie(opinie, \"kawa\")\n",
        "#\n",
        "# print(filtruj_opinie(opinie, \"kawa\"))\n",
        "\n",
        "\n",
        "# 2️⃣ Średnia długość opinii\n",
        "# Napisz funkcję srednia_dlugosc_opinii(opinie),\n",
        "# która obliczy i zwróci średnią liczbę słów w jednej opinii.\n",
        "\n",
        "# def srednia_dlugosc_opinii(opinie):\n",
        "  # twoj kod\n",
        "\n",
        "\n",
        "# 3️⃣ Zliczanie opinii pozytywnych i negatywnych\n",
        "# Przyjmijmy, że pozytywne opinie zawierają słowa: \"świetne\", \"najlepsza\", \"miła\", \"pomocna\"\n",
        "# Negatywne opinie zawierają słowa: \"zimna\", \"nie polecam\", \"średnia\"\n",
        "\n",
        "# def analizuj_opinie(opinie):\n",
        "  # twoj kod\n"
      ],
      "metadata": {
        "id": "8fAUIZ4dCBj-"
      },
      "execution_count": null,
      "outputs": []
    },
    {
      "cell_type": "code",
      "source": [
        "# 1️⃣ Filtracja opinii\n",
        "slowo_filtru = input(\"Podaj słowo: \")\n",
        "\n",
        "def Filtracja(opinia):\n",
        "    return slowo_filtru.lower() in opinia.lower()\n",
        "    # lub\n",
        "    # if(slowo_filtru.lower() in opinia.lower()):\n",
        "    #   return True\n",
        "\n",
        "# sfiltrowane dane\n",
        "filtrowane_dane = filter(Filtracja, opinie)\n",
        "\n",
        "# wyświetlanie\n",
        "print()\n",
        "for x in filtrowane_dane:\n",
        "    print(x)\n",
        "\n"
      ],
      "metadata": {
        "colab": {
          "base_uri": "https://localhost:8080/"
        },
        "id": "BaycdL7nVpZ6",
        "outputId": "7d5d0ec7-be36-49bf-c3cd-aa06f004e04a"
      },
      "execution_count": null,
      "outputs": [
        {
          "output_type": "stream",
          "name": "stdout",
          "text": [
            "Podaj słowo: kawa\n",
            "\n",
            "Bardzo smaczna kawa, ale obsługa trochę wolna\n",
            "Kawa była zimna, nie polecam\n"
          ]
        }
      ]
    },
    {
      "cell_type": "code",
      "source": [
        "# 2️⃣ Średnia długość opinii\n",
        "sumaslow = 0\n",
        "ilosc_opinij = 0\n",
        "\n",
        "def dlugosc_slow(opinia):\n",
        "  word_count = len(opinia.split())\n",
        "  return word_count\n",
        "\n",
        "\n",
        "def srednia_dlugosc_opinii():\n",
        "  return sumaslow/ilosc_opinij\n",
        "\n",
        "for op in opinie:\n",
        "  print(op)\n",
        "  ilosc_opinij += 1\n",
        "  dlugosc_opinii = dlugosc_slow(op)\n",
        "  sumaslow += dlugosc_opinii\n",
        "  print(\"Długość -\",dlugosc_opinii)\n",
        "\n",
        "print()\n",
        "print(\"suma słów - \",sumaslow)\n",
        "print(\"ilosc opinii - \",ilosc_opinij)\n",
        "print(\"Średnia długość opinii\",srednia_dlugosc_opinii())\n",
        "\n",
        "\n",
        "\n"
      ],
      "metadata": {
        "colab": {
          "base_uri": "https://localhost:8080/"
        },
        "id": "B0Pq7Sj6c1tu",
        "outputId": "2b6cac59-b934-46f6-fd31-60173fa2f5d8"
      },
      "execution_count": null,
      "outputs": [
        {
          "output_type": "stream",
          "name": "stdout",
          "text": [
            "Bardzo smaczna kawa, ale obsługa trochę wolna\n",
            "Długość - 7\n",
            "Świetne ciasto i miła atmosfera!\n",
            "Długość - 5\n",
            "Kawa była zimna, nie polecam\n",
            "Długość - 5\n",
            "Najlepsza kawiarnia w mieście!\n",
            "Długość - 4\n",
            "Obsługa była bardzo pomocna, ale ceny są trochę wysokie\n",
            "Długość - 9\n",
            "Średnia jakość, ale duży wybór kaw\n",
            "Długość - 6\n",
            "\n",
            "suma słów -  36\n",
            "ilosc opinii -  6\n",
            "Średnia długość opinii 6.0\n"
          ]
        }
      ]
    },
    {
      "cell_type": "code",
      "source": [
        "# 3️⃣ Zliczanie opinii pozytywnych i negatywnych\n",
        "\n",
        "\n",
        "#  \"świetne\", \"najlepsza\", \"miła\", \"pomocna\"\n",
        "pozytywne_slowa = [\"świetne\", \"najlepsza\", \"miła\", \"pomocna\"]\n",
        "\n",
        "def pozytynyFilter(opinia):\n",
        "  # return any(slowo in opinia.lower() for slowo in pozytywne_slowa)\n",
        "  # lub\n",
        "  for slowo in pozytywne_slowa:\n",
        "    if(slowo in opinia.lower()):\n",
        "      return True\n",
        "\n",
        "# \"zimna\", \"nie polecam\", \"średnia\"\n",
        "niegatywne_slowa = [\"zimna\", \"nie polecam\", \"średnia\"]\n",
        "\n",
        "def niegatywnyFilter(opinia):\n",
        "  # return any(slowo in opinia.lower() for slowo in niegatywne_slowa)\n",
        "  # lub\n",
        "  for slowo in niegatywne_slowa:\n",
        "    if(slowo in opinia.lower()):\n",
        "      return True\n",
        "\n",
        "def analizuj_opinie(opinie):\n",
        "  pozytywne = 0\n",
        "  niegatywne = 0\n",
        "  filtrowane_pozytywne = filter(pozytynyFilter, opinie)\n",
        "  filtrowane_niegatywne = filter(niegatywnyFilter, opinie)\n",
        "  for x in filtrowane_pozytywne:\n",
        "    pozytywne +=1\n",
        "  print()\n",
        "  for x in filtrowane_niegatywne:\n",
        "    niegatywne +=1\n",
        "\n",
        "  print(\"Pozytywnych opinii - \",pozytywne)\n",
        "  print(\"Niegatywnych opinii - \",niegatywne)\n",
        "\n",
        "# Start\n",
        "analizuj_opinie(opinie)"
      ],
      "metadata": {
        "colab": {
          "base_uri": "https://localhost:8080/"
        },
        "id": "LCOIiTWbuCUF",
        "outputId": "1192ca60-6514-4192-dbab-270125644e42"
      },
      "execution_count": null,
      "outputs": [
        {
          "output_type": "stream",
          "name": "stdout",
          "text": [
            "\n",
            "Pozytywnych opinii -  3\n",
            "Niegatywnych opinii -  2\n"
          ]
        }
      ]
    }
  ]
}