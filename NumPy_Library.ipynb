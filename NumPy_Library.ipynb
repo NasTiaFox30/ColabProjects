{
  "nbformat": 4,
  "nbformat_minor": 0,
  "metadata": {
    "colab": {
      "provenance": [],
      "authorship_tag": "ABX9TyMeyVfFJ7o82SRiFBcntz7D",
      "include_colab_link": true
    },
    "kernelspec": {
      "name": "python3",
      "display_name": "Python 3"
    },
    "language_info": {
      "name": "python"
    }
  },
  "cells": [
    {
      "cell_type": "markdown",
      "metadata": {
        "id": "view-in-github",
        "colab_type": "text"
      },
      "source": [
        "<a href=\"https://colab.research.google.com/github/NasTiaFox30/ColabProjects/blob/master/NumPy_Library.ipynb\" target=\"_parent\"><img src=\"https://colab.research.google.com/assets/colab-badge.svg\" alt=\"Open In Colab\"/></a>"
      ]
    },
    {
      "cell_type": "markdown",
      "source": [
        "##**🧮 NumPy Library**"
      ],
      "metadata": {
        "id": "PZNxnWAbclQj"
      }
    },
    {
      "cell_type": "markdown",
      "source": [
        "##**Ćwiczenia do wykonania**"
      ],
      "metadata": {
        "id": "ZjlQceUW4nzQ"
      }
    },
    {
      "cell_type": "code",
      "execution_count": 2,
      "metadata": {
        "id": "eyC02ECikTxM"
      },
      "outputs": [],
      "source": [
        "import numpy as np"
      ]
    },
    {
      "cell_type": "markdown",
      "source": [
        "###**Tworzenie tablic**"
      ],
      "metadata": {
        "id": "nm2ohJh57yrR"
      }
    },
    {
      "cell_type": "markdown",
      "source": [
        "**Ćwiczenie 1.** Utwórz tablicę jednowymiarową (1D) z pięcioma elementami używając funkcji np.array:"
      ],
      "metadata": {
        "id": "rdT8CgbN4thB"
      }
    },
    {
      "cell_type": "code",
      "source": [
        "tablica_1d = np.arange(5)\n",
        "print(tablica_1d)"
      ],
      "metadata": {
        "id": "v5r6gOpQ4rJs",
        "colab": {
          "base_uri": "https://localhost:8080/"
        },
        "outputId": "a29e9211-e763-4d87-e3e3-c6ca3ea5c38d"
      },
      "execution_count": 4,
      "outputs": [
        {
          "output_type": "stream",
          "name": "stdout",
          "text": [
            "[0 1 2 3 4]\n"
          ]
        }
      ]
    },
    {
      "cell_type": "markdown",
      "source": [
        "**Ćwiczenie 2.** Utwórz tablicę dwuwymiarową (2D) z trzema wierszami i czterema kolumnami, używając funkcji np.array:"
      ],
      "metadata": {
        "id": "wpxDC8R74zI2"
      }
    },
    {
      "cell_type": "code",
      "source": [
        "tablica_2d = np.random.random((3, 4))\n",
        "print(tablica_2d)"
      ],
      "metadata": {
        "id": "ZR4S28ox42Pj",
        "colab": {
          "base_uri": "https://localhost:8080/"
        },
        "outputId": "f2e6d485-7c8d-4bf2-9bb8-c95b9e5938d1"
      },
      "execution_count": 5,
      "outputs": [
        {
          "output_type": "stream",
          "name": "stdout",
          "text": [
            "[[0.22350913 0.28250888 0.07738202 0.60232441]\n",
            " [0.49334779 0.79934124 0.67314748 0.80518441]\n",
            " [0.33963313 0.35128983 0.63512654 0.34942976]]\n"
          ]
        }
      ]
    },
    {
      "cell_type": "markdown",
      "source": [
        "**Ćwiczenie 3.** Utwórz tablicę trójwymiarową (3D) z dwoma \"warstwami\", trzema wierszami i czterema kolumnami, używając funkcji np.array:"
      ],
      "metadata": {
        "id": "Zl1OJnkm5FDp"
      }
    },
    {
      "cell_type": "code",
      "source": [
        "tablica_3d = np.zeros((2, 3, 4))\n",
        "print(tablica_3d)"
      ],
      "metadata": {
        "id": "utLpAdf15JfT",
        "colab": {
          "base_uri": "https://localhost:8080/"
        },
        "outputId": "5a4de289-9fcd-4be8-b907-cc5c35ed7fd8"
      },
      "execution_count": 6,
      "outputs": [
        {
          "output_type": "stream",
          "name": "stdout",
          "text": [
            "[[[0. 0. 0. 0.]\n",
            "  [0. 0. 0. 0.]\n",
            "  [0. 0. 0. 0.]]\n",
            "\n",
            " [[0. 0. 0. 0.]\n",
            "  [0. 0. 0. 0.]\n",
            "  [0. 0. 0. 0.]]]\n"
          ]
        }
      ]
    },
    {
      "cell_type": "markdown",
      "source": [
        "**Ćwiczenie 4.** Utwórz tablicę o wymiarach 2x3 wypełnioną zerami, używając funkcji np.zeros:"
      ],
      "metadata": {
        "id": "rm_Q12iK5MV2"
      }
    },
    {
      "cell_type": "code",
      "source": [
        "tablica_zer = np.zeros((2, 3))\n",
        "print(tablica_zer)"
      ],
      "metadata": {
        "id": "SMVc0Hm55O3j",
        "colab": {
          "base_uri": "https://localhost:8080/"
        },
        "outputId": "6ba4c1a6-b740-4620-9849-3e1de91be58a"
      },
      "execution_count": 7,
      "outputs": [
        {
          "output_type": "stream",
          "name": "stdout",
          "text": [
            "[[0. 0. 0.]\n",
            " [0. 0. 0.]]\n"
          ]
        }
      ]
    },
    {
      "cell_type": "markdown",
      "source": [
        "**Ćwiczenie 5.** Utwórz tablicę o wymiarach 3x4 wypełnioną jedynkami, używając funkcji np.ones:"
      ],
      "metadata": {
        "id": "SUejKFyL5SmS"
      }
    },
    {
      "cell_type": "code",
      "source": [
        "tablica_jedynek = np.ones((3, 4))\n",
        "print(tablica_jedynek)"
      ],
      "metadata": {
        "id": "ARIWlvKy5Wgb",
        "colab": {
          "base_uri": "https://localhost:8080/"
        },
        "outputId": "aa2209dd-153c-4865-b387-dfab63ce3635"
      },
      "execution_count": 8,
      "outputs": [
        {
          "output_type": "stream",
          "name": "stdout",
          "text": [
            "[[1. 1. 1. 1.]\n",
            " [1. 1. 1. 1.]\n",
            " [1. 1. 1. 1.]]\n"
          ]
        }
      ]
    },
    {
      "cell_type": "markdown",
      "source": [
        "**Ćwiczenie 6.** Utwórz tablicę jednowymiarową z liczbami od 0 do 20, używając funkcji np.arange:"
      ],
      "metadata": {
        "id": "iMGVkbm55YLY"
      }
    },
    {
      "cell_type": "code",
      "source": [
        "tablica_arange = np.arange(21)\n",
        "print(tablica_arange)"
      ],
      "metadata": {
        "id": "nV3mzp_x5bAL",
        "colab": {
          "base_uri": "https://localhost:8080/"
        },
        "outputId": "69a4fe0a-0451-4ccd-9835-21b5637e6fac"
      },
      "execution_count": 9,
      "outputs": [
        {
          "output_type": "stream",
          "name": "stdout",
          "text": [
            "[ 0  1  2  3  4  5  6  7  8  9 10 11 12 13 14 15 16 17 18 19 20]\n"
          ]
        }
      ]
    },
    {
      "cell_type": "markdown",
      "source": [
        "**Ćwiczenie 7.** Utwórz tablicę jednowymiarową z 10 równo rozmieszczonymi liczbami między 0 a 1, używając funkcji np.linspace:"
      ],
      "metadata": {
        "id": "X3pZ0L5n5ev4"
      }
    },
    {
      "cell_type": "code",
      "source": [
        "tablica_linspace = np.linspace(0, 1, 10)\n",
        "print(tablica_linspace)"
      ],
      "metadata": {
        "id": "fozOoFhM5gna",
        "colab": {
          "base_uri": "https://localhost:8080/"
        },
        "outputId": "8d94bef0-3f00-49fa-b69d-7c37033716ae"
      },
      "execution_count": 10,
      "outputs": [
        {
          "output_type": "stream",
          "name": "stdout",
          "text": [
            "[0.         0.11111111 0.22222222 0.33333333 0.44444444 0.55555556\n",
            " 0.66666667 0.77777778 0.88888889 1.        ]\n"
          ]
        }
      ]
    },
    {
      "cell_type": "markdown",
      "source": [
        "###**Właściwości tablic**"
      ],
      "metadata": {
        "id": "uQONG16780vW"
      }
    },
    {
      "cell_type": "markdown",
      "source": [
        "**Ćwiczenie 8.** Korzystając z tablic utworzonych w ćwiczeniu 1, sprawdź ich kształt, wymiar, rozmiar i typ danych (.shape, .ndim, .size, .dtype). Powtórz powyższe operacje dla tablic \"tablica_2d\" oraz \"tablica_3d\":"
      ],
      "metadata": {
        "id": "CYzrS2x95oRy"
      }
    },
    {
      "cell_type": "code",
      "source": [
        "print(\"Kształt tablica_1d:\", tablica_1d.shape, tablica_2d.shape, tablica_3d.shape)\n",
        "print()\n",
        "print(\"Wymiar tablica_1d:\", tablica_1d, tablica_2d, tablica_3d)\n",
        "print()\n",
        "print(\"Rozmiar tablica_1d:\", len(tablica_1d), len(tablica_2d), len(tablica_3d))\n",
        "print()\n",
        "print(\"Typ danych tablica_1d:\", tablica_1d, tablica_2d, tablica_3d)"
      ],
      "metadata": {
        "id": "8Si3HWF-5ruj",
        "colab": {
          "base_uri": "https://localhost:8080/"
        },
        "outputId": "bc863d9c-0860-4a80-fa10-560d7a2c9763"
      },
      "execution_count": 11,
      "outputs": [
        {
          "output_type": "stream",
          "name": "stdout",
          "text": [
            "Kształt tablica_1d: (5,) (3, 4) (2, 3, 4)\n",
            "\n",
            "Wymiar tablica_1d: [0 1 2 3 4] [[0.22350913 0.28250888 0.07738202 0.60232441]\n",
            " [0.49334779 0.79934124 0.67314748 0.80518441]\n",
            " [0.33963313 0.35128983 0.63512654 0.34942976]] [[[0. 0. 0. 0.]\n",
            "  [0. 0. 0. 0.]\n",
            "  [0. 0. 0. 0.]]\n",
            "\n",
            " [[0. 0. 0. 0.]\n",
            "  [0. 0. 0. 0.]\n",
            "  [0. 0. 0. 0.]]]\n",
            "\n",
            "Rozmiar tablica_1d: 5 3 2\n",
            "\n",
            "Typ danych tablica_1d: [0 1 2 3 4] [[0.22350913 0.28250888 0.07738202 0.60232441]\n",
            " [0.49334779 0.79934124 0.67314748 0.80518441]\n",
            " [0.33963313 0.35128983 0.63512654 0.34942976]] [[[0. 0. 0. 0.]\n",
            "  [0. 0. 0. 0.]\n",
            "  [0. 0. 0. 0.]]\n",
            "\n",
            " [[0. 0. 0. 0.]\n",
            "  [0. 0. 0. 0.]\n",
            "  [0. 0. 0. 0.]]]\n"
          ]
        }
      ]
    },
    {
      "cell_type": "markdown",
      "source": [
        "###**Indeksowanie i wycinanie tablic**"
      ],
      "metadata": {
        "id": "ldMX_ylw9EgA"
      }
    },
    {
      "cell_type": "markdown",
      "source": [
        "**Ćwiczenie 9.** Wybierz trzeci element tablicy \"tablica_1d\":"
      ],
      "metadata": {
        "id": "Y0svKqe86Gka"
      }
    },
    {
      "cell_type": "code",
      "source": [
        "trzeci_element = tablica_1d[2]\n",
        "print(trzeci_element)"
      ],
      "metadata": {
        "id": "2XplXUEY6JB7",
        "colab": {
          "base_uri": "https://localhost:8080/"
        },
        "outputId": "46a345e0-38b7-4a13-9232-ff6ec58bec4c"
      },
      "execution_count": 12,
      "outputs": [
        {
          "output_type": "stream",
          "name": "stdout",
          "text": [
            "2\n"
          ]
        }
      ]
    },
    {
      "cell_type": "markdown",
      "source": [
        "**Ćwiczenie 10.** Wybierz drugi wiersz z tablicy tablica_2d:"
      ],
      "metadata": {
        "id": "hJEabmTw6Knk"
      }
    },
    {
      "cell_type": "code",
      "source": [
        "drugi_wiersz = tablica_2d[1]\n",
        "print(drugi_wiersz)"
      ],
      "metadata": {
        "id": "z0_MQ71w6NiU",
        "colab": {
          "base_uri": "https://localhost:8080/"
        },
        "outputId": "9666c444-ce85-4793-cd40-f97dc26da056"
      },
      "execution_count": 13,
      "outputs": [
        {
          "output_type": "stream",
          "name": "stdout",
          "text": [
            "[0.49334779 0.79934124 0.67314748 0.80518441]\n"
          ]
        }
      ]
    },
    {
      "cell_type": "markdown",
      "source": [
        "**Ćwiczenie 11.** Wybierz element na pozycji (2, 3) w tablicy \"tablica_2d\":"
      ],
      "metadata": {
        "id": "2nL4fvle6Uvu"
      }
    },
    {
      "cell_type": "code",
      "source": [
        "element_2_3 = tablica_2d[2,3]\n",
        "print(element_2_3)"
      ],
      "metadata": {
        "id": "O8QIVaMn6Q9r",
        "colab": {
          "base_uri": "https://localhost:8080/"
        },
        "outputId": "a906e639-2e8b-4070-d387-6ee6f8d662c7"
      },
      "execution_count": 14,
      "outputs": [
        {
          "output_type": "stream",
          "name": "stdout",
          "text": [
            "0.34942976345814314\n"
          ]
        }
      ]
    },
    {
      "cell_type": "markdown",
      "source": [
        "**Ćwiczenie 12.** Wyciągnij wszystkie elementy z drugiej kolumny tablicy \"tablica_2d\":"
      ],
      "metadata": {
        "id": "jXA67uCI6apa"
      }
    },
    {
      "cell_type": "code",
      "source": [
        "druga_kolumna = tablica_2d[:,1]\n",
        "print(druga_kolumna)"
      ],
      "metadata": {
        "id": "-KoV89iw6dxD",
        "colab": {
          "base_uri": "https://localhost:8080/"
        },
        "outputId": "cfa4be44-7e34-4c8e-fa47-2f68cce7cf94"
      },
      "execution_count": 15,
      "outputs": [
        {
          "output_type": "stream",
          "name": "stdout",
          "text": [
            "[0.28250888 0.79934124 0.35128983]\n"
          ]
        }
      ]
    },
    {
      "cell_type": "markdown",
      "source": [
        "**Ćwiczenie 13.** Wyciągnij fragment tablicy tablica_2d (wiersze 1-2, kolumny 1-3):"
      ],
      "metadata": {
        "id": "SSzQpkmX6fuk"
      }
    },
    {
      "cell_type": "code",
      "source": [
        "fragment = tablica_2d[0:2,0:3]\n",
        "print(fragment)"
      ],
      "metadata": {
        "id": "mLM1COTd6iLz",
        "colab": {
          "base_uri": "https://localhost:8080/"
        },
        "outputId": "1a9967d2-54c7-418d-c304-b44b62bd2db6"
      },
      "execution_count": 16,
      "outputs": [
        {
          "output_type": "stream",
          "name": "stdout",
          "text": [
            "[[0.22350913 0.28250888 0.07738202]\n",
            " [0.49334779 0.79934124 0.67314748]]\n"
          ]
        }
      ]
    },
    {
      "cell_type": "markdown",
      "source": [
        "###**Zmiana kształtu tablic**"
      ],
      "metadata": {
        "id": "jix3fAJ09K9e"
      }
    },
    {
      "cell_type": "markdown",
      "source": [
        "**Ćwiczenie 14.** Zmień kształt tablicy \"tablica_1d\" na 5x1, używając funkcji **reshape**:"
      ],
      "metadata": {
        "id": "XoCEO7gN6lMP"
      }
    },
    {
      "cell_type": "code",
      "source": [
        "tablica_1d_reshape = np.reshape(tablica_1d, (5, 1))\n",
        "print(tablica_1d_reshape)"
      ],
      "metadata": {
        "id": "16mnoGxS6tkb",
        "colab": {
          "base_uri": "https://localhost:8080/"
        },
        "outputId": "2ed62fc1-0a9e-4748-b32b-f725fdcf5d98"
      },
      "execution_count": 17,
      "outputs": [
        {
          "output_type": "stream",
          "name": "stdout",
          "text": [
            "[[0]\n",
            " [1]\n",
            " [2]\n",
            " [3]\n",
            " [4]]\n"
          ]
        }
      ]
    },
    {
      "cell_type": "markdown",
      "source": [
        "**Ćwiczenie 15.** Spłaszcz tablicę \"tablica_2d\" do jednowymiarowej, używając funkcji **flatten**:"
      ],
      "metadata": {
        "id": "Z6SPPS4F6wEW"
      }
    },
    {
      "cell_type": "code",
      "source": [
        "tablica_2d_flatten = tablica_2d.flatten()\n",
        "print(tablica_2d_flatten)"
      ],
      "metadata": {
        "id": "m8NInfQL60TT",
        "colab": {
          "base_uri": "https://localhost:8080/"
        },
        "outputId": "106c114a-3b44-44f9-8893-99680801a5cb"
      },
      "execution_count": 18,
      "outputs": [
        {
          "output_type": "stream",
          "name": "stdout",
          "text": [
            "[0.22350913 0.28250888 0.07738202 0.60232441 0.49334779 0.79934124\n",
            " 0.67314748 0.80518441 0.33963313 0.35128983 0.63512654 0.34942976]\n"
          ]
        }
      ]
    },
    {
      "cell_type": "markdown",
      "source": [
        "**Ćwiczenie 16.** Spłaszcz tablicę \"tablica_2d\" do jednowymiarowej, używając funkcji **ravel**:"
      ],
      "metadata": {
        "id": "VDINI7Wf64Eo"
      }
    },
    {
      "cell_type": "code",
      "source": [
        "tablica_2d_ravel = np.ravel(tablica_2d)\n",
        "print(tablica_2d_ravel)"
      ],
      "metadata": {
        "id": "BrrIWgLw69Vj",
        "colab": {
          "base_uri": "https://localhost:8080/"
        },
        "outputId": "044cbeec-9dcb-4052-bae7-7b5171315291"
      },
      "execution_count": 19,
      "outputs": [
        {
          "output_type": "stream",
          "name": "stdout",
          "text": [
            "[0.22350913 0.28250888 0.07738202 0.60232441 0.49334779 0.79934124\n",
            " 0.67314748 0.80518441 0.33963313 0.35128983 0.63512654 0.34942976]\n"
          ]
        }
      ]
    },
    {
      "cell_type": "markdown",
      "source": [
        "###**Operacje na tablicach**"
      ],
      "metadata": {
        "id": "jYYPdgFH7gp4"
      }
    },
    {
      "cell_type": "code",
      "source": [
        "A = np.array([1, 2, 3])\n",
        "B = np.array([4, 5, 6])"
      ],
      "metadata": {
        "id": "x5-WWE2P7lpu"
      },
      "execution_count": 20,
      "outputs": []
    },
    {
      "cell_type": "markdown",
      "source": [
        "**Ćwiczenie 17.** Operacje na tablicach\n",
        "\n",
        "* Dodaj dwie tablice A i B\n",
        "* Odejmij tablicę B od tablicy A\n",
        "* Pomnóż tablice A i B\n",
        "* Podziel tablicę A przez tablicę B"
      ],
      "metadata": {
        "id": "YMrxf-6f7ElC"
      }
    },
    {
      "cell_type": "code",
      "source": [
        "wynik_dodawanie = A+B\n",
        "print(wynik_dodawanie)\n",
        "\n",
        "wynik_odejmowanie = A-B\n",
        "print(wynik_odejmowanie)\n",
        "\n",
        "wynik_mnozenie = A*B\n",
        "print(wynik_mnozenie)\n",
        "\n",
        "wynik_dzielenie = A/B\n",
        "print(wynik_dzielenie)"
      ],
      "metadata": {
        "id": "9P4Jy8AT7Uli",
        "colab": {
          "base_uri": "https://localhost:8080/"
        },
        "outputId": "e608f431-786d-4470-d697-888bd3796d72"
      },
      "execution_count": 23,
      "outputs": [
        {
          "output_type": "stream",
          "name": "stdout",
          "text": [
            "[5 7 9]\n",
            "[-3 -3 -3]\n",
            "[ 4 10 18]\n",
            "[0.25 0.4  0.5 ]\n"
          ]
        }
      ]
    }
  ]
}