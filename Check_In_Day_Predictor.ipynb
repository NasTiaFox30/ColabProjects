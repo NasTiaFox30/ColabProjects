{
  "nbformat": 4,
  "nbformat_minor": 0,
  "metadata": {
    "colab": {
      "provenance": [],
      "authorship_tag": "ABX9TyPO4+yAnmqL/GfywayECd6E",
      "include_colab_link": true
    },
    "kernelspec": {
      "name": "python3",
      "display_name": "Python 3"
    },
    "language_info": {
      "name": "python"
    }
  },
  "cells": [
    {
      "cell_type": "markdown",
      "metadata": {
        "id": "view-in-github",
        "colab_type": "text"
      },
      "source": [
        "<a href=\"https://colab.research.google.com/github/NasTiaFox30/ColabProjects/blob/master/Check_In_Day_Predictor.ipynb\" target=\"_parent\"><img src=\"https://colab.research.google.com/assets/colab-badge.svg\" alt=\"Open In Colab\"/></a>"
      ]
    },
    {
      "cell_type": "markdown",
      "source": [
        "## 🏨 Check-In Day Predictor\n",
        "\n",
        "Klasyfikacja dnia tygodnia przyjazdu gościa hotelowego\n",
        "\n",
        "---\n",
        "\n",
        "\n",
        "\n"
      ],
      "metadata": {
        "id": "cWXKxOEDG73s"
      }
    },
    {
      "cell_type": "markdown",
      "source": [
        "## 🎯 Cel zadania\n",
        "Na podstawie danych gościa (płeć, miejscowość pochodzenia oraz cena za dobę) zbuduj model klasyfikacyjny, który przewidzi **dzień tygodnia**, w którym gość przyjechał do hotelu.\n",
        "\n",
        "---\n",
        "\n",
        "## 📂 Dane wejściowe\n",
        "Plik `hotel_klasyfikacja.csv`, zawierający informacje o rezerwacjach hotelowych.\n",
        "\n",
        "Najważniejsze kolumny:\n",
        "- `plec` – płeć gościa (`M` lub `K`),\n",
        "- `miejscowosc` – miejscowość pochodzenia gościa,\n",
        "- `cena_za_dobe` – cena zapłacona za dobę,\n",
        "- `dzien_tygodnia` – dzień tygodnia, w którym gość przyjechał.\n",
        "\n",
        "---\n",
        "\n",
        "## 🔧 Zakres prac\n",
        "\n",
        "1. **Wczytaj dane i zapoznaj się z ich strukturą.**\n",
        "2. **Wybierz cechy wejściowe:** `plec`, `miejscowosc`, `cena_za_dobe`.\n",
        "3. **Zakoduj dane kategoryczne** (`plec`, `miejscowosc`, `dzien_tygodnia`) przy pomocy `LabelEncoder`.\n",
        "4. **Podziel dane** na zbiory: treningowy i testowy (`train_test_split`).\n",
        "5. **Zbuduj i przetestuj trzy modele klasyfikacyjne:**\n",
        "   - `RandomForestClassifier`\n",
        "   - `LogisticRegression`\n",
        "   - `KNeighborsClassifier`\n",
        "6. **Oceń skuteczność modeli:**\n",
        "   - metryka dokładności (`accuracy_score`)\n",
        "   - raport klasyfikacji (`classification_report`)\n",
        "7. **Dla modelu Random Forest wypisz ważność cech** (`feature_importances_`).\n",
        "8. **Przetestuj działanie modelu na nowym przypadku:**\n",
        "\n",
        "   > Przykład: kobieta z Krakowa, cena za dobę 320 zł → przewidź dzień tygodnia.\n",
        "\n",
        "---\n",
        "\n",
        "## 💡 Wskazówki techniczne\n",
        "\n",
        "- Do kodowania zmiennych tekstowych użyj `LabelEncoder`.\n",
        "- Pamiętaj, aby przy przewidywaniu nowych przypadków używać tych samych encoderów co wcześniej.\n",
        "- Wybierz model o najwyższej skuteczności do prognozowania nowych danych.\n",
        "\n",
        "\n"
      ],
      "metadata": {
        "id": "W3biCQDaG4tU"
      }
    },
    {
      "cell_type": "markdown",
      "source": [
        "**Rozwiązanie zadania**"
      ],
      "metadata": {
        "id": "t5flhqn4KAq5"
      }
    },
    {
      "cell_type": "code",
      "source": [
        "# 1. Import bibliotek\n",
        "# Importujemy niezbędne biblioteki do wczytywania danych, przygotowania modelu i oceny wyników\n",
        "import gdown\n",
        "import pandas as pd\n",
        "from sklearn.model_selection import train_test_split\n",
        "from sklearn.preprocessing import LabelEncoder\n",
        "from sklearn.ensemble import RandomForestClassifier\n",
        "from sklearn.linear_model import LogisticRegression\n",
        "from sklearn.neighbors import KNeighborsClassifier\n",
        "from sklearn.metrics import accuracy_score, classification_report"
      ],
      "metadata": {
        "id": "-JsyMSo1Mjlw"
      },
      "execution_count": null,
      "outputs": []
    },
    {
      "cell_type": "code",
      "source": [
        "# 2. Wczytanie danych\n",
        "# Wczytujemy dane z pliku CSV zawierające informacje o rezerwacjach hotelowych\n",
        "# https://drive.google.com/file/d/1oMPla7v9OG-RNCPdeQWkown9dQTeeFRA\n",
        "\n",
        "gdown.download('https://drive.google.com/uc?id=1oMPla7v9OG-RNCPdeQWkown9dQTeeFRA', 'hotel_klasyfikacja.csv')\n",
        "\n",
        "dane = pd.read_csv('hotel_klasyfikacja.csv')"
      ],
      "metadata": {
        "id": "-tmy0STvMmlZ"
      },
      "execution_count": null,
      "outputs": []
    },
    {
      "cell_type": "code",
      "source": [
        "# 3. Podstawowa eksploracja danych\n",
        "# Sprawdzamy informacje o kolumnach oraz pierwsze rekordy, aby zapoznać się z danymi\n",
        "\n",
        "print(dane.info())\n",
        "print(dane.head())"
      ],
      "metadata": {
        "id": "ovpzdwgAJ_OL"
      },
      "execution_count": null,
      "outputs": []
    },
    {
      "cell_type": "code",
      "source": [
        "# 4. Przygotowanie danych (wybór cech i etykiety)\n",
        "# Wybieramy zmienne niezależne (cechy) i zmienną zależną (etykietę)\n",
        "X = dane[[\"plec\", \"miejscowosc\", \"cena_za_dobe\"]]\n",
        "y = dane[\"dzien_tygodnia\"]"
      ],
      "metadata": {
        "id": "LumnFSRJMyji"
      },
      "execution_count": null,
      "outputs": []
    },
    {
      "cell_type": "code",
      "source": [
        "# Kodowanie zmiennych kategorycznych\n",
        "# Zamieniamy dane tekstowe na wartości liczbowe\n",
        "le_plec = LabelEncoder()\n",
        "le_miejscowosc = LabelEncoder()\n",
        "le_dzien = LabelEncoder()\n",
        "\n",
        "X['plec'] = le_plec.fit_transform(X['plec'])\n",
        "X['miejscowosc'] = le_miejscowosc.fit_transform(X['miejscowosc'])\n",
        "y = le_dzien.fit_transform(y)"
      ],
      "metadata": {
        "id": "eltvPuoV1kn-"
      },
      "execution_count": null,
      "outputs": []
    },
    {
      "cell_type": "code",
      "source": [
        "# 5. Podział na zbiory treningowy i testowy\n",
        "# Dzielimy dane na część do trenowania modelu i część testową\n",
        "X_train, X_test, y_train, y_test = train_test_split(X, y, test_size=0.2, random_state=42)"
      ],
      "metadata": {
        "id": "qFekiEvlM3Qd"
      },
      "execution_count": null,
      "outputs": []
    },
    {
      "cell_type": "code",
      "source": [
        "# 6. Klasyfikatory\n",
        "# Tworzymy modele, które będziemy testować\n",
        "model_lr = LogisticRegression(max_iter=1000, random_state=42)\n",
        "model_knn = KNeighborsClassifier()\n",
        "model_rf = RandomForestClassifier(random_state=42)"
      ],
      "metadata": {
        "id": "q9z4c7FHM6dM"
      },
      "execution_count": null,
      "outputs": []
    },
    {
      "cell_type": "code",
      "source": [
        "# 7. Trenowanie i ocena\n",
        "# Dla każdego modelu trenujemy go na danych treningowych, przewidujemy wyniki i oceniamy skuteczność\n",
        "\n",
        "# Trenowanie:\n",
        "model_lr.fit(X_train, y_train)\n",
        "model_knn.fit(X_train, y_train)\n",
        "model_rf.fit(X_train, y_train)\n",
        "\n",
        "# Logistic Regression\n",
        "print(\"Logistic Regression:\")\n",
        "y_pred_lr = model_lr.predict(X_test)\n",
        "print(\"Accuracy:\", accuracy_score(y_test, y_pred_lr))\n",
        "print(classification_report(y_test, y_pred_lr, target_names=le_dzien.classes_))\n",
        "\n",
        "# nKNeighborsClassifier\n",
        "print(\"\\nKNeighborsClassifier:\")\n",
        "y_pred_knn = model_knn.predict(X_test)\n",
        "print(\"Accuracy:\", accuracy_score(y_test, y_pred_knn))\n",
        "print(classification_report(y_test, y_pred_knn, target_names=le_dzien.classes_))\n",
        "\n",
        "# Random Forest\n",
        "print(\"\\nRandom Forest:\")\n",
        "y_pred_rf = model_rf.predict(X_test)\n",
        "print(\"Accuracy:\", accuracy_score(y_test, y_pred_rf))\n",
        "print(classification_report(y_test, y_pred_rf, target_names=le_dzien.classes_))"
      ],
      "metadata": {
        "id": "dGAxjpViM9Ho"
      },
      "execution_count": null,
      "outputs": []
    },
    {
      "cell_type": "code",
      "source": [
        "# 8. Ważność cech - tylko dla Random Forest\n",
        "# Sprawdzamy, które cechy miały największy wpływ na decyzje klasyfikatora Random Forest\n",
        "importances = model_rf.feature_importances_\n",
        "\n",
        "# Wyświetlenie ważności w tekscie\n",
        "for cecha, waga in zip(X.columns, importances):\n",
        "    print(f\"Cecha: {cecha:15} | Ważność: {waga:.3f}\")"
      ],
      "metadata": {
        "id": "NIjiaHhLM_UI"
      },
      "execution_count": null,
      "outputs": []
    },
    {
      "cell_type": "code",
      "source": [
        "# 9. Przykład klasyfikacji nowego przypadku\n",
        "# Tworzymy przykładowe dane: kobieta z Warszawy, cena za dobę 320 zł\n",
        "nowe_dane = pd.DataFrame({\n",
        "    \"plec\": [\"K\"],\n",
        "    \"miejscowosc\": [\"Krakow\"],\n",
        "    \"cena_za_dobe\": [320.0]\n",
        "})\n",
        "\n",
        "# # Dodatkowe testowanie:\n",
        "# Tworzymy przykładowe dane: kobieta z Lublin, cena z adobę 500 zł\n",
        "# nowe_dane = pd.DataFrame({\n",
        "#     \"plec\": [\"K\"],\n",
        "#     \"miejscowosc\": [\"Lublin\"],\n",
        "#     \"cena_za_dobe\": [500.0]\n",
        "# })\n",
        "\n",
        "# Tworzymy przykładowe dane: mieżczyzna z Poznan, cena z adobę 350 zł\n",
        "# nowe_dane = pd.DataFrame({\n",
        "#     \"plec\": [\"M\"],\n",
        "#     \"miejscowosc\": [\"Poznan\"],\n",
        "#     \"cena_za_dobe\": [370.0]\n",
        "# })\n"
      ],
      "metadata": {
        "id": "ajd0ruTENBb6"
      },
      "execution_count": null,
      "outputs": []
    },
    {
      "cell_type": "code",
      "source": [
        "# 10. Przewidujemy dzień tygodnia modelem RandomForest\n",
        "\n",
        "nowe_dane['plec'] = le_plec.transform(nowe_dane['plec'])\n",
        "nowe_dane['miejscowosc'] = le_miejscowosc.transform(nowe_dane['miejscowosc'])\n",
        "\n",
        "predykcja = model_rf.predict(nowe_dane)\n",
        "dzien_tygodnia = le_dzien.inverse_transform(predykcja)[0]\n",
        "print(f\"\\nPrzewidziany dzień tygodnia: {dzien_tygodnia}\")"
      ],
      "metadata": {
        "id": "zcOUbCBxNFeo"
      },
      "execution_count": null,
      "outputs": []
    },
    {
      "cell_type": "markdown",
      "source": [],
      "metadata": {
        "id": "8-JE5v68t1oQ"
      }
    },
    {
      "cell_type": "markdown",
      "source": [
        "## 🎓 Rozszerzenie\n",
        "\n",
        "- Przetestuj więcej przypadków i sprawdź, jak zmiana miejscowości lub ceny wpływa na wynik.\n",
        "- Dodaj dodatkowe cechy, np. `standard` lub `nr_pokoju`, i sprawdź, czy poprawiają skuteczność.\n",
        "- Zrób wykresy rozkładu dni tygodnia względem płci lub miasta (`seaborn`, `matplotlib`)."
      ],
      "metadata": {
        "id": "Oahw_Vbzt8YA"
      }
    },
    {
      "cell_type": "code",
      "source": [
        "# Import bibliotek\n",
        "# Importujemy niezbędne biblioteki do wczytywania danych, przygotowania modelu i oceny wyników\n",
        "import gdown\n",
        "import pandas as pd\n",
        "from sklearn.model_selection import train_test_split\n",
        "from sklearn.preprocessing import LabelEncoder\n",
        "from sklearn.ensemble import RandomForestClassifier\n",
        "from sklearn.linear_model import LogisticRegression\n",
        "from sklearn.neighbors import KNeighborsClassifier\n",
        "from sklearn.metrics import accuracy_score, classification_report"
      ],
      "metadata": {
        "id": "_ctY3hD25jmS"
      },
      "execution_count": null,
      "outputs": []
    },
    {
      "cell_type": "code",
      "source": [
        "# Wczytanie danych\n",
        "# Wczytujemy dane z pliku CSV zawierające informacje o rezerwacjach hotelowych\n",
        "# https://drive.google.com/file/d/1oMPla7v9OG-RNCPdeQWkown9dQTeeFRA\n",
        "\n",
        "gdown.download('https://drive.google.com/uc?id=1oMPla7v9OG-RNCPdeQWkown9dQTeeFRA', 'hotel_klasyfikacja.csv')\n",
        "\n",
        "dane = pd.read_csv('hotel_klasyfikacja.csv')"
      ],
      "metadata": {
        "id": "9WcKfHDb5jmT"
      },
      "execution_count": null,
      "outputs": []
    },
    {
      "cell_type": "code",
      "source": [
        "# Przygotowanie danych (wybór cech i etykiety)\n",
        "# Wybieramy zmienne niezależne (cechy) i zmienną zależną (etykietę)\n",
        "\n",
        "# Rozszerzenie:\n",
        "X = dane[[\"plec\", \"miejscowosc\", \"cena_za_dobe\", \"nr_pokoju\"]]\n",
        "y = dane[\"dzien_tygodnia\"]"
      ],
      "metadata": {
        "id": "hykv1_gA3DhR"
      },
      "execution_count": null,
      "outputs": []
    },
    {
      "cell_type": "code",
      "source": [
        "# Kodowanie zmiennych kategorycznych\n",
        "# Zamieniamy dane tekstowe na wartości liczbowe\n",
        "le_plec = LabelEncoder()\n",
        "le_miejscowosc = LabelEncoder()\n",
        "le_dzien = LabelEncoder()\n",
        "\n",
        "X['plec'] = le_plec.fit_transform(X['plec'])\n",
        "X['miejscowosc'] = le_miejscowosc.fit_transform(X['miejscowosc'])\n",
        "y = le_dzien.fit_transform(y)"
      ],
      "metadata": {
        "id": "mW-nwAmW3DhS"
      },
      "execution_count": null,
      "outputs": []
    },
    {
      "cell_type": "code",
      "source": [
        "# Podział na zbiory treningowy i testowy\n",
        "# Dzielimy dane na część do trenowania modelu i część testową\n",
        "X_train, X_test, y_train, y_test = train_test_split(X, y, test_size=0.2, random_state=42)"
      ],
      "metadata": {
        "id": "pbwrgVBk3DhS"
      },
      "execution_count": null,
      "outputs": []
    },
    {
      "cell_type": "code",
      "source": [
        "# Klasyfikatory\n",
        "# Tworzymy model\n",
        "model_rf = RandomForestClassifier(random_state=42)"
      ],
      "metadata": {
        "id": "MHi8M4V-3DhS"
      },
      "execution_count": null,
      "outputs": []
    },
    {
      "cell_type": "code",
      "source": [
        "# 7. Trenowanie i ocena\n",
        "# trenujemy model na danych treningowych, przewidujemy wyniki i oceniamy skuteczność\n",
        "\n",
        "# Trenowanie:\n",
        "model_rf.fit(X_train, y_train)\n",
        "\n",
        "# Random Forest\n",
        "print(\"\\nRandom Forest:\")\n",
        "y_pred_rf = model_rf.predict(X_test)\n",
        "print(\"Accuracy:\", accuracy_score(y_test, y_pred_rf))\n",
        "print(classification_report(y_test, y_pred_rf, target_names=le_dzien.classes_))"
      ],
      "metadata": {
        "id": "fuR9LCEw3DhS"
      },
      "execution_count": null,
      "outputs": []
    },
    {
      "cell_type": "code",
      "source": [
        "# Ocena skuteczności\n",
        "# Random Forest\n",
        "print(\"Random Forest:\")\n",
        "# y_pred_rf = model_rf.predict(X_test)\n",
        "accuracy_with_room = accuracy_score(y_test, y_pred_rf)\n",
        "print(f\"Accuracy z nr_pokoju: {accuracy_with_room:.3f}\")\n",
        "\n",
        "\n",
        "# Porównanie z modelem bez nr_pokoju\n",
        "X_without_room = X.drop(columns=['nr_pokoju'])\n",
        "\n",
        "X_train_no_room, X_test_no_room, y_train_no_room, y_test_no_room = train_test_split(X_without_room, y, test_size=0.2, random_state=42)\n",
        "\n",
        "model_rf_no_room = RandomForestClassifier(random_state=42)\n",
        "model_rf_no_room.fit(X_train_no_room, y_train_no_room)\n",
        "\n",
        "y_pred_no_room = model_rf_no_room.predict(X_test_no_room)\n",
        "accuracy_no_room = accuracy_score(y_test_no_room, y_pred_no_room)\n",
        "print(f\"Accuracy bez nr_pokoju: {accuracy_no_room:.3f}\")\n"
      ],
      "metadata": {
        "id": "Olc1BxsJt87a"
      },
      "execution_count": null,
      "outputs": []
    },
    {
      "cell_type": "code",
      "source": [
        "# Implementacja wykresów\n",
        "import seaborn as sns\n",
        "import matplotlib.pyplot as plt\n",
        "\n",
        "dane['dzien_tygodnia'] = le_dzien.inverse_transform(y)\n",
        "dane['plec'] = le_plec.inverse_transform(X['plec'])"
      ],
      "metadata": {
        "id": "yMh7oc-X7JfM"
      },
      "execution_count": null,
      "outputs": []
    },
    {
      "cell_type": "code",
      "source": [
        "# Wykres 1: Płeć a dzień tygodnia\n",
        "plt.figure(figsize=(10, 6))\n",
        "sns.countplot(data=dane, x='dzien_tygodnia', hue='plec')\n",
        "plt.title(\"Rozkład dni tygodnia względem płci\")\n",
        "plt.show()"
      ],
      "metadata": {
        "id": "RzNiIMGg7Nu-"
      },
      "execution_count": null,
      "outputs": []
    },
    {
      "cell_type": "code",
      "source": [
        "# Wykres 2: Miasto a dzień tygodnia (top 5)\n",
        "top_miasta = dane['miejscowosc'].value_counts().nlargest(5).index\n",
        "dane_top_miasta = dane[dane['miejscowosc'].isin(top_miasta)]\n",
        "plt.figure(figsize=(12, 6))\n",
        "sns.countplot(data=dane_top_miasta, x='dzien_tygodnia', hue='miejscowosc')\n",
        "plt.title(\"Rozkład dni tygodnia względem miasta (top 5)\")\n",
        "plt.show()"
      ],
      "metadata": {
        "id": "2HQItAT77Pdm"
      },
      "execution_count": null,
      "outputs": []
    },
    {
      "cell_type": "code",
      "source": [
        "# Wykres 3: Heatmapa\n",
        "cross_tab = pd.crosstab(dane['miejscowosc'], dane['dzien_tygodnia'])\n",
        "plt.figure(figsize=(12, 8))\n",
        "sns.heatmap(cross_tab, cmap='YlGnBu', annot=True, fmt='d', linewidths=.5)\n",
        "plt.title(\"Częstość rezerwacji wg miasta i dnia tygodnia\")\n",
        "plt.show()"
      ],
      "metadata": {
        "id": "pw6Zw-O47REd"
      },
      "execution_count": null,
      "outputs": []
    }
  ]
}